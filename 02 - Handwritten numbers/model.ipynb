{
 "cells": [
  {
   "cell_type": "code",
   "execution_count": 1,
   "metadata": {},
   "outputs": [
    {
     "name": "stderr",
     "output_type": "stream",
     "text": [
      "2024-02-17 15:55:48.484987: E external/local_xla/xla/stream_executor/cuda/cuda_dnn.cc:9261] Unable to register cuDNN factory: Attempting to register factory for plugin cuDNN when one has already been registered\n",
      "2024-02-17 15:55:48.485084: E external/local_xla/xla/stream_executor/cuda/cuda_fft.cc:607] Unable to register cuFFT factory: Attempting to register factory for plugin cuFFT when one has already been registered\n",
      "2024-02-17 15:55:48.486877: E external/local_xla/xla/stream_executor/cuda/cuda_blas.cc:1515] Unable to register cuBLAS factory: Attempting to register factory for plugin cuBLAS when one has already been registered\n",
      "2024-02-17 15:55:48.494350: I tensorflow/core/platform/cpu_feature_guard.cc:182] This TensorFlow binary is optimized to use available CPU instructions in performance-critical operations.\n",
      "To enable the following instructions: AVX2 FMA, in other operations, rebuild TensorFlow with the appropriate compiler flags.\n"
     ]
    },
    {
     "name": "stdout",
     "output_type": "stream",
     "text": [
      "Num GPUs Available:  1\n"
     ]
    },
    {
     "name": "stderr",
     "output_type": "stream",
     "text": [
      "2024-02-17 15:55:51.387883: I external/local_xla/xla/stream_executor/cuda/cuda_executor.cc:887] could not open file to read NUMA node: /sys/bus/pci/devices/0000:07:00.0/numa_node\n",
      "Your kernel may have been built without NUMA support.\n",
      "2024-02-17 15:55:51.397729: I external/local_xla/xla/stream_executor/cuda/cuda_executor.cc:887] could not open file to read NUMA node: /sys/bus/pci/devices/0000:07:00.0/numa_node\n",
      "Your kernel may have been built without NUMA support.\n",
      "2024-02-17 15:55:51.397792: I external/local_xla/xla/stream_executor/cuda/cuda_executor.cc:887] could not open file to read NUMA node: /sys/bus/pci/devices/0000:07:00.0/numa_node\n",
      "Your kernel may have been built without NUMA support.\n"
     ]
    }
   ],
   "source": [
    "import tensorflow as tf\n",
    "import matplotlib.pyplot as plt\n",
    "import seaborn as sn\n",
    "import pandas as pd\n",
    "import numpy as np\n",
    "import math as math\n",
    "import datetime as datetime\n",
    "\n",
    "print(\"Num GPUs Available: \", len(tf.config.list_physical_devices('GPU')))"
   ]
  },
  {
   "cell_type": "code",
   "execution_count": 2,
   "metadata": {},
   "outputs": [
    {
     "name": "stdout",
     "output_type": "stream",
     "text": [
      "(42000, 785)\n",
      "(28000, 784)\n"
     ]
    }
   ],
   "source": [
    "from sklearn.model_selection import train_test_split\n",
    "from tensorflow.keras.preprocessing.image import ImageDataGenerator\n",
    "\n",
    "datagen = ImageDataGenerator(\n",
    "  rotation_range=30,\n",
    "  width_shift_range=0.25,\n",
    "  height_shift_range=0.25,\n",
    "  zoom_range = [0.5, 1.5]\n",
    ")\n",
    "\n",
    "test_split = 0.2\n",
    "\n",
    "# Load the data\n",
    "train = pd.read_csv('data/train.csv')\n",
    "test = pd.read_csv('data/test.csv')\n",
    "\n",
    "print(train.shape)\n",
    "print(test.shape)\n",
    "\n",
    "# Split the data into X and y\n",
    "X = train.iloc[:, 1:785]\n",
    "y = train.iloc[:, 0]\n",
    "X_test = test.iloc[:, 0:784]\n",
    "\n",
    "# Split the data into training and validation sets\n",
    "X_train, X_validation, y_train, y_validation = train_test_split(X, y, test_size = 0.2, random_state = 1212)\n",
    "\n",
    "# Reshape the data\n",
    "x_train_re = X_train.to_numpy().reshape(33600, 28, 28) # reshape to 28x28 images and 80% of the data\n",
    "y_train_re = y_train.values\n",
    "x_validation_re = X_validation.to_numpy().reshape(8400, 28, 28) # reshape to 28x28 images and 20% of the data\n",
    "y_validation_re = y_validation.values\n",
    "x_test_re = test.to_numpy().reshape(28000, 28, 28)  # reshape to 28x28 images all test data\n",
    "\n",
    "# Add color channel to the images\n",
    "x_train_chan = x_train_re.reshape(x_train_re.shape[0], 28, 28, 1)\n",
    "x_validation_chan = x_validation_re.reshape(x_validation_re.shape[0], 28, 28, 1)\n",
    "x_test_chan = x_test_re.reshape(x_test_re.shape[0], 28, 28, 1)\n",
    "\n",
    "x_train_norm = x_train_chan / 255.0 # normalize the data\n",
    "x_validation_norm = x_validation_chan / 255.0 # normalize the data\n",
    "x_test_norm = x_test_chan / 255.0 # normalize the data"
   ]
  },
  {
   "cell_type": "code",
   "execution_count": 3,
   "metadata": {},
   "outputs": [
    {
     "data": {
      "image/png": "[encoded data removed]",
      "text/plain": [
       "<Figure size 1000x1000 with 9 Axes>"
      ]
     },
     "metadata": {},
     "output_type": "display_data"
    }
   ],
   "source": [
    "# Print some training examples\n",
    "numbers_to_display = 9\n",
    "num_cells = math.ceil(math.sqrt(numbers_to_display))\n",
    "plt.figure(figsize=(10,10))\n",
    "for i in range(numbers_to_display):\n",
    "    plt.subplot(num_cells, num_cells, i+1)\n",
    "    plt.xticks([])\n",
    "    plt.yticks([])\n",
    "    plt.grid(False)\n",
    "    plt.imshow(x_train_re[i], cmap=plt.cm.binary)\n",
    "    plt.xlabel(y_train_re[i])\n",
    "plt.show()"
   ]
  },
  {
   "cell_type": "code",
   "execution_count": 4,
   "metadata": {},
   "outputs": [
    {
     "name": "stdout",
     "output_type": "stream",
     "text": [
      "Model: \"sequential\"\n",
      "_________________________________________________________________\n",
      " Layer (type)                Output Shape              Param #   \n",
      "=================================================================\n",
      " conv2d (Conv2D)             (None, 26, 26, 32)        320       \n",
      "                                                                 \n",
      " max_pooling2d (MaxPooling2  (None, 13, 13, 32)        0         \n",
      " D)                                                              \n",
      "                                                                 \n",
      " conv2d_1 (Conv2D)           (None, 11, 11, 64)        18496     \n",
      "                                                                 \n",
      " max_pooling2d_1 (MaxPoolin  (None, 5, 5, 64)          0         \n",
      " g2D)                                                            \n",
      "                                                                 \n",
      " dropout (Dropout)           (None, 5, 5, 64)          0         \n",
      "                                                                 \n",
      " flatten (Flatten)           (None, 1600)              0         \n",
      "                                                                 \n",
      " dense (Dense)               (None, 96)                153696    \n",
      "                                                                 \n",
      " dense_1 (Dense)             (None, 10)                970       \n",
      "                                                                 \n",
      "=================================================================\n",
      "Total params: 173482 (677.66 KB)\n",
      "Trainable params: 173482 (677.66 KB)\n",
      "Non-trainable params: 0 (0.00 Byte)\n",
      "_________________________________________________________________\n"
     ]
    },
    {
     "name": "stderr",
     "output_type": "stream",
     "text": [
      "2024-02-17 15:56:18.818178: I external/local_xla/xla/stream_executor/cuda/cuda_executor.cc:887] could not open file to read NUMA node: /sys/bus/pci/devices/0000:07:00.0/numa_node\n",
      "Your kernel may have been built without NUMA support.\n",
      "2024-02-17 15:56:18.818293: I external/local_xla/xla/stream_executor/cuda/cuda_executor.cc:887] could not open file to read NUMA node: /sys/bus/pci/devices/0000:07:00.0/numa_node\n",
      "Your kernel may have been built without NUMA support.\n",
      "2024-02-17 15:56:18.818334: I external/local_xla/xla/stream_executor/cuda/cuda_executor.cc:887] could not open file to read NUMA node: /sys/bus/pci/devices/0000:07:00.0/numa_node\n",
      "Your kernel may have been built without NUMA support.\n",
      "2024-02-17 15:56:19.333797: I external/local_xla/xla/stream_executor/cuda/cuda_executor.cc:887] could not open file to read NUMA node: /sys/bus/pci/devices/0000:07:00.0/numa_node\n",
      "Your kernel may have been built without NUMA support.\n",
      "2024-02-17 15:56:19.333851: I external/local_xla/xla/stream_executor/cuda/cuda_executor.cc:887] could not open file to read NUMA node: /sys/bus/pci/devices/0000:07:00.0/numa_node\n",
      "Your kernel may have been built without NUMA support.\n",
      "2024-02-17 15:56:19.333859: I tensorflow/core/common_runtime/gpu/gpu_device.cc:2022] Could not identify NUMA node of platform GPU id 0, defaulting to 0.  Your kernel may not have been built with NUMA support.\n",
      "2024-02-17 15:56:19.333892: I external/local_xla/xla/stream_executor/cuda/cuda_executor.cc:887] could not open file to read NUMA node: /sys/bus/pci/devices/0000:07:00.0/numa_node\n",
      "Your kernel may have been built without NUMA support.\n",
      "2024-02-17 15:56:19.333912: I tensorflow/core/common_runtime/gpu/gpu_device.cc:1929] Created device /job:localhost/replica:0/task:0/device:GPU:0 with 4084 MB memory:  -> device: 0, name: NVIDIA GeForce GTX 1660 SUPER, pci bus id: 0000:07:00.0, compute capability: 7.5\n"
     ]
    }
   ],
   "source": [
    "model = tf.keras.models.Sequential([\n",
    "  tf.keras.layers.Conv2D(32, (3,3), activation=tf.keras.activations.relu, input_shape=(28, 28, 1)),\n",
    "  tf.keras.layers.MaxPooling2D(2, 2),\n",
    "  tf.keras.layers.Conv2D(64, (3,3), activation=tf.keras.activations.relu),\n",
    "  tf.keras.layers.MaxPooling2D(2, 2),\n",
    "  tf.keras.layers.Dropout(0.3),\n",
    "  tf.keras.layers.Flatten(),\n",
    "  tf.keras.layers.Dense(units=96, activation=tf.keras.activations.relu),\n",
    "  tf.keras.layers.Dense(units=10, activation=tf.keras.activations.softmax)\n",
    "])\n",
    "\n",
    "# Desctipe the model\n",
    "model.summary()\n",
    "\n",
    "# Show model plotted\n",
    "# tf.keras.utils.plot_model(\n",
    "#     model,\n",
    "#     show_shapes=True,\n",
    "#     show_layer_names=True,\n",
    "# )"
   ]
  },
  {
   "cell_type": "code",
   "execution_count": 5,
   "metadata": {},
   "outputs": [],
   "source": [
    "# Compile the model with adam\n",
    "# adam_optimizer = tf.keras.optimizers.Adam(learning_rate=0.01)\n",
    "\n",
    "model.compile(\n",
    "    optimizer='adam',\n",
    "    loss=tf.keras.losses.sparse_categorical_crossentropy,\n",
    "    metrics=['accuracy']\n",
    ")"
   ]
  },
  {
   "cell_type": "code",
   "execution_count": 6,
   "metadata": {},
   "outputs": [
    {
     "name": "stderr",
     "output_type": "stream",
     "text": [
      "2024-02-16 21:25:36.772103: W external/local_tsl/tsl/framework/cpu_allocator_impl.cc:83] Allocation of 105369600 exceeds 10% of free system memory.\n"
     ]
    },
    {
     "name": "stdout",
     "output_type": "stream",
     "text": [
      "Epoch 1/10\n",
      "1049/1050 [============================>.] - ETA: 0s - loss: 0.4214 - accuracy: 0.8808"
     ]
    },
    {
     "name": "stderr",
     "output_type": "stream",
     "text": [
      "2024-02-16 21:25:49.664758: W external/local_tsl/tsl/framework/cpu_allocator_impl.cc:83] Allocation of 26342400 exceeds 10% of free system memory.\n"
     ]
    },
    {
     "name": "stdout",
     "output_type": "stream",
     "text": [
      "1050/1050 [==============================] - 14s 12ms/step - loss: 0.4215 - accuracy: 0.8808 - val_loss: 0.2608 - val_accuracy: 0.9310\n",
      "Epoch 2/10\n",
      "   7/1050 [..............................] - ETA: 10s - loss: 0.2523 - accuracy: 0.9330"
     ]
    },
    {
     "name": "stderr",
     "output_type": "stream",
     "text": [
      "2024-02-16 21:25:51.397466: W external/local_tsl/tsl/framework/cpu_allocator_impl.cc:83] Allocation of 124600320 exceeds 10% of free system memory.\n"
     ]
    },
    {
     "name": "stdout",
     "output_type": "stream",
     "text": [
      "1050/1050 [==============================] - 12s 11ms/step - loss: 0.3837 - accuracy: 0.9027 - val_loss: 0.2228 - val_accuracy: 0.9412\n",
      "Epoch 3/10\n",
      "   7/1050 [..............................] - ETA: 9s - loss: 0.4132 - accuracy: 0.9152 "
     ]
    },
    {
     "name": "stderr",
     "output_type": "stream",
     "text": [
      "2024-02-16 21:26:03.113256: W external/local_tsl/tsl/framework/cpu_allocator_impl.cc:83] Allocation of 124600320 exceeds 10% of free system memory.\n"
     ]
    },
    {
     "name": "stdout",
     "output_type": "stream",
     "text": [
      "1050/1050 [==============================] - 12s 11ms/step - loss: 0.3747 - accuracy: 0.9102 - val_loss: 0.2455 - val_accuracy: 0.9471\n",
      "Epoch 4/10\n",
      "  13/1050 [..............................] - ETA: 9s - loss: 0.4358 - accuracy: 0.8966 "
     ]
    },
    {
     "name": "stderr",
     "output_type": "stream",
     "text": [
      "2024-02-16 21:26:15.105873: W external/local_tsl/tsl/framework/cpu_allocator_impl.cc:83] Allocation of 124600320 exceeds 10% of free system memory.\n"
     ]
    },
    {
     "name": "stdout",
     "output_type": "stream",
     "text": [
      "1050/1050 [==============================] - 11s 10ms/step - loss: 0.3732 - accuracy: 0.9144 - val_loss: 0.3146 - val_accuracy: 0.9329\n",
      "Epoch 5/10\n",
      "1050/1050 [==============================] - 12s 11ms/step - loss: 0.3609 - accuracy: 0.9197 - val_loss: 0.3685 - val_accuracy: 0.9379\n",
      "Epoch 6/10\n",
      "1050/1050 [==============================] - 11s 11ms/step - loss: 0.4133 - accuracy: 0.9161 - val_loss: 0.2807 - val_accuracy: 0.9463\n",
      "Epoch 7/10\n",
      "1050/1050 [==============================] - 11s 10ms/step - loss: 0.3648 - accuracy: 0.9232 - val_loss: 0.4948 - val_accuracy: 0.9556\n",
      "Epoch 8/10\n",
      "1050/1050 [==============================] - 11s 11ms/step - loss: 0.3761 - accuracy: 0.9232 - val_loss: 0.3201 - val_accuracy: 0.9558\n",
      "Epoch 9/10\n",
      "1050/1050 [==============================] - 11s 11ms/step - loss: 0.3718 - accuracy: 0.9215 - val_loss: 0.4408 - val_accuracy: 0.9543\n",
      "Epoch 10/10\n",
      "1050/1050 [==============================] - 11s 11ms/step - loss: 0.3896 - accuracy: 0.9207 - val_loss: 0.5021 - val_accuracy: 0.9273\n",
      "The model has successfully trained\n"
     ]
    }
   ],
   "source": [
    "log_dir = \"logs/fit/\" + datetime.datetime.now().strftime(\"%Y%m%d-%H%M%S\")\n",
    "tensorboard_callback = tf.keras.callbacks.TensorBoard(log_dir=log_dir, histogram_freq=1)\n",
    "\n",
    "training_history = model.fit(\n",
    "    x_train_norm,\n",
    "    y_train_re,\n",
    "    epochs=10,\n",
    "    validation_data=(x_validation_norm, y_validation_re),\n",
    "    callbacks=[tensorboard_callback]\n",
    ")\n",
    "print(\"The model has successfully trained\")"
   ]
  },
  {
   "cell_type": "code",
   "execution_count": 7,
   "metadata": {},
   "outputs": [
    {
     "data": {
      "text/plain": [
       "<matplotlib.legend.Legend at 0x7fe9f8315c00>"
      ]
     },
     "execution_count": 7,
     "metadata": {},
     "output_type": "execute_result"
    },
    {
     "data": {
      "image/png": "[encoded data removed]",
      "text/plain": [
       "<Figure size 640x480 with 1 Axes>"
      ]
     },
     "metadata": {},
     "output_type": "display_data"
    }
   ],
   "source": [
    "plt.xlabel('Epoch Number')\n",
    "plt.ylabel('Accuracy')\n",
    "plt.plot(training_history.history['accuracy'], label='training set')\n",
    "plt.plot(training_history.history['val_accuracy'], label='validation set')\n",
    "plt.legend()"
   ]
  },
  {
   "cell_type": "code",
   "execution_count": 8,
   "metadata": {},
   "outputs": [
    {
     "name": "stderr",
     "output_type": "stream",
     "text": [
      "/usr/local/lib/python3.11/dist-packages/keras/src/engine/training.py:3103: UserWarning: You are saving your model as an HDF5 file via `model.save()`. This file format is considered legacy. We recommend using instead the native Keras format, e.g. `model.save('my_model.keras')`.\n",
      "  saving_api.save_model(\n"
     ]
    }
   ],
   "source": [
    "model.save('digits-model-AD.h5')"
   ]
  },
  {
   "cell_type": "code",
   "execution_count": 10,
   "metadata": {},
   "outputs": [
    {
     "name": "stdout",
     "output_type": "stream",
     "text": [
      "2024-02-17 16:28:54.908661: E external/local_xla/xla/stream_executor/cuda/cuda_dnn.cc:9261] Unable to register cuDNN factory: Attempting to register factory for plugin cuDNN when one has already been registered\n",
      "2024-02-17 16:28:54.908839: E external/local_xla/xla/stream_executor/cuda/cuda_fft.cc:607] Unable to register cuFFT factory: Attempting to register factory for plugin cuFFT when one has already been registered\n",
      "2024-02-17 16:28:54.935544: E external/local_xla/xla/stream_executor/cuda/cuda_blas.cc:1515] Unable to register cuBLAS factory: Attempting to register factory for plugin cuBLAS when one has already been registered\n",
      "2024-02-17 16:28:55.023062: I tensorflow/core/platform/cpu_feature_guard.cc:182] This TensorFlow binary is optimized to use available CPU instructions in performance-critical operations.\n",
      "To enable the following instructions: AVX2 FMA, in other operations, rebuild TensorFlow with the appropriate compiler flags.\n"
     ]
    }
   ],
   "source": [
    "!tensorflowjs_converter --input_format keras digits-model-AD.h5 ./builds/AD"
   ]
  },
  {
   "cell_type": "code",
   "execution_count": 20,
   "metadata": {},
   "outputs": [],
   "source": [
    "X_np = X.to_numpy().reshape(X.shape[0], 28, 28, 1)\n",
    "\n",
    "X_train_s = X[:35700].to_numpy().reshape(35700, 28, 28, 1)\n",
    "X_validation_s = X[35700:].to_numpy().reshape(6300, 28, 28, 1)\n",
    "\n",
    "y_train_s = y[:35700]\n",
    "y_validation_s = y[35700:]\n",
    "\n",
    "# Normalize the data\n",
    "X_train_s = X_train_s.astype('float32') / 255\n",
    "X_validation_s = X_validation_s.astype('float32') / 255\n",
    "\n",
    "datagen.fit(X_train_s)"
   ]
  },
  {
   "cell_type": "code",
   "execution_count": 21,
   "metadata": {},
   "outputs": [
    {
     "name": "stdout",
     "output_type": "stream",
     "text": [
      "Epoch 1/100\n",
      "1116/1116 [==============================] - ETA: 0s - loss: 1.2677 - accuracy: 0.5784"
     ]
    },
    {
     "name": "stderr",
     "output_type": "stream",
     "text": [
      "2024-02-17 16:40:23.203819: W external/local_tsl/tsl/framework/cpu_allocator_impl.cc:83] Allocation of 19756800 exceeds 10% of free system memory.\n"
     ]
    },
    {
     "name": "stdout",
     "output_type": "stream",
     "text": [
      "1116/1116 [==============================] - 17s 15ms/step - loss: 1.2677 - accuracy: 0.5784 - val_loss: 0.2619 - val_accuracy: 0.9344\n",
      "Epoch 2/100\n",
      "1116/1116 [==============================] - 17s 15ms/step - loss: 0.7931 - accuracy: 0.7476 - val_loss: 0.1463 - val_accuracy: 0.9587\n",
      "Epoch 3/100\n",
      "1116/1116 [==============================] - 16s 14ms/step - loss: 0.6485 - accuracy: 0.7930 - val_loss: 0.1151 - val_accuracy: 0.9673\n",
      "Epoch 4/100\n",
      "1116/1116 [==============================] - 18s 16ms/step - loss: 0.5782 - accuracy: 0.8147 - val_loss: 0.0970 - val_accuracy: 0.9705\n",
      "Epoch 5/100\n",
      "1116/1116 [==============================] - 17s 15ms/step - loss: 0.5205 - accuracy: 0.8332 - val_loss: 0.0784 - val_accuracy: 0.9744\n",
      "Epoch 6/100\n",
      "1116/1116 [==============================] - 20s 18ms/step - loss: 0.4630 - accuracy: 0.8520 - val_loss: 0.0783 - val_accuracy: 0.9760\n",
      "Epoch 7/100\n",
      "1116/1116 [==============================] - 19s 17ms/step - loss: 0.4457 - accuracy: 0.8582 - val_loss: 0.0705 - val_accuracy: 0.9781\n",
      "Epoch 8/100\n",
      "1116/1116 [==============================] - 18s 16ms/step - loss: 0.4112 - accuracy: 0.8701 - val_loss: 0.0657 - val_accuracy: 0.9787\n",
      "Epoch 9/100\n",
      "1116/1116 [==============================] - 15s 14ms/step - loss: 0.3877 - accuracy: 0.8766 - val_loss: 0.0790 - val_accuracy: 0.9759\n",
      "Epoch 10/100\n",
      "1116/1116 [==============================] - 15s 13ms/step - loss: 0.3749 - accuracy: 0.8783 - val_loss: 0.0777 - val_accuracy: 0.9754\n",
      "Epoch 11/100\n",
      "1116/1116 [==============================] - 16s 14ms/step - loss: 0.3653 - accuracy: 0.8832 - val_loss: 0.0703 - val_accuracy: 0.9786\n",
      "Epoch 12/100\n",
      "1116/1116 [==============================] - 16s 14ms/step - loss: 0.3546 - accuracy: 0.8857 - val_loss: 0.0622 - val_accuracy: 0.9825\n",
      "Epoch 13/100\n",
      "1116/1116 [==============================] - 16s 14ms/step - loss: 0.3383 - accuracy: 0.8898 - val_loss: 0.0674 - val_accuracy: 0.9790\n",
      "Epoch 14/100\n",
      "1116/1116 [==============================] - 15s 13ms/step - loss: 0.3399 - accuracy: 0.8923 - val_loss: 0.0745 - val_accuracy: 0.9786\n",
      "Epoch 15/100\n",
      "1116/1116 [==============================] - 15s 14ms/step - loss: 0.3267 - accuracy: 0.8967 - val_loss: 0.0716 - val_accuracy: 0.9779\n",
      "Epoch 16/100\n",
      "1116/1116 [==============================] - 15s 13ms/step - loss: 0.3185 - accuracy: 0.8984 - val_loss: 0.0669 - val_accuracy: 0.9802\n",
      "Epoch 17/100\n",
      "1116/1116 [==============================] - 16s 14ms/step - loss: 0.3138 - accuracy: 0.8985 - val_loss: 0.0635 - val_accuracy: 0.9825\n",
      "Epoch 18/100\n",
      "1116/1116 [==============================] - 16s 14ms/step - loss: 0.3063 - accuracy: 0.9033 - val_loss: 0.0683 - val_accuracy: 0.9798\n",
      "Epoch 19/100\n",
      "1116/1116 [==============================] - 16s 15ms/step - loss: 0.2974 - accuracy: 0.9026 - val_loss: 0.0559 - val_accuracy: 0.9846\n",
      "Epoch 20/100\n",
      "1116/1116 [==============================] - 18s 16ms/step - loss: 0.2922 - accuracy: 0.9071 - val_loss: 0.0565 - val_accuracy: 0.9840\n",
      "Epoch 21/100\n",
      "1116/1116 [==============================] - 16s 15ms/step - loss: 0.2915 - accuracy: 0.9069 - val_loss: 0.0632 - val_accuracy: 0.9830\n",
      "Epoch 22/100\n",
      "1116/1116 [==============================] - 16s 14ms/step - loss: 0.2909 - accuracy: 0.9069 - val_loss: 0.0789 - val_accuracy: 0.9779\n",
      "Epoch 23/100\n",
      "1116/1116 [==============================] - 16s 15ms/step - loss: 0.2858 - accuracy: 0.9068 - val_loss: 0.0589 - val_accuracy: 0.9838\n",
      "Epoch 24/100\n",
      "1116/1116 [==============================] - 16s 15ms/step - loss: 0.2772 - accuracy: 0.9115 - val_loss: 0.0640 - val_accuracy: 0.9819\n",
      "Epoch 25/100\n",
      "1116/1116 [==============================] - 16s 14ms/step - loss: 0.2801 - accuracy: 0.9106 - val_loss: 0.0535 - val_accuracy: 0.9852\n",
      "Epoch 26/100\n",
      "1116/1116 [==============================] - 16s 15ms/step - loss: 0.2788 - accuracy: 0.9091 - val_loss: 0.0581 - val_accuracy: 0.9844\n",
      "Epoch 27/100\n",
      "1116/1116 [==============================] - 16s 14ms/step - loss: 0.2717 - accuracy: 0.9111 - val_loss: 0.0585 - val_accuracy: 0.9840\n",
      "Epoch 28/100\n",
      "1116/1116 [==============================] - 16s 14ms/step - loss: 0.2761 - accuracy: 0.9110 - val_loss: 0.0597 - val_accuracy: 0.9832\n",
      "Epoch 29/100\n",
      "1116/1116 [==============================] - 16s 15ms/step - loss: 0.2680 - accuracy: 0.9130 - val_loss: 0.0582 - val_accuracy: 0.9846\n",
      "Epoch 30/100\n",
      "1116/1116 [==============================] - 16s 15ms/step - loss: 0.2682 - accuracy: 0.9143 - val_loss: 0.0630 - val_accuracy: 0.9840\n",
      "Epoch 31/100\n",
      "1116/1116 [==============================] - 17s 15ms/step - loss: 0.2684 - accuracy: 0.9136 - val_loss: 0.0662 - val_accuracy: 0.9819\n",
      "Epoch 32/100\n",
      "1116/1116 [==============================] - 16s 14ms/step - loss: 0.2727 - accuracy: 0.9123 - val_loss: 0.0591 - val_accuracy: 0.9852\n",
      "Epoch 33/100\n",
      "1116/1116 [==============================] - 16s 14ms/step - loss: 0.2735 - accuracy: 0.9123 - val_loss: 0.0636 - val_accuracy: 0.9832\n",
      "Epoch 34/100\n",
      "1116/1116 [==============================] - 16s 14ms/step - loss: 0.2641 - accuracy: 0.9142 - val_loss: 0.0726 - val_accuracy: 0.9813\n",
      "Epoch 35/100\n",
      "1116/1116 [==============================] - 16s 15ms/step - loss: 0.2617 - accuracy: 0.9176 - val_loss: 0.0604 - val_accuracy: 0.9846\n",
      "Epoch 36/100\n",
      "1116/1116 [==============================] - 16s 15ms/step - loss: 0.2579 - accuracy: 0.9154 - val_loss: 0.0663 - val_accuracy: 0.9835\n",
      "Epoch 37/100\n",
      "1116/1116 [==============================] - 17s 15ms/step - loss: 0.2595 - accuracy: 0.9167 - val_loss: 0.0727 - val_accuracy: 0.9803\n",
      "Epoch 38/100\n",
      "1116/1116 [==============================] - 18s 16ms/step - loss: 0.2567 - accuracy: 0.9165 - val_loss: 0.0607 - val_accuracy: 0.9833\n",
      "Epoch 39/100\n",
      "1116/1116 [==============================] - 16s 14ms/step - loss: 0.2581 - accuracy: 0.9175 - val_loss: 0.0668 - val_accuracy: 0.9829\n",
      "Epoch 40/100\n",
      "1116/1116 [==============================] - 17s 15ms/step - loss: 0.2562 - accuracy: 0.9184 - val_loss: 0.0739 - val_accuracy: 0.9811\n",
      "Epoch 41/100\n",
      "1116/1116 [==============================] - 16s 14ms/step - loss: 0.2502 - accuracy: 0.9183 - val_loss: 0.0643 - val_accuracy: 0.9833\n",
      "Epoch 42/100\n",
      "1116/1116 [==============================] - 16s 15ms/step - loss: 0.2564 - accuracy: 0.9172 - val_loss: 0.0563 - val_accuracy: 0.9856\n",
      "Epoch 43/100\n",
      "1116/1116 [==============================] - 17s 15ms/step - loss: 0.2564 - accuracy: 0.9184 - val_loss: 0.0609 - val_accuracy: 0.9833\n",
      "Epoch 44/100\n",
      "1116/1116 [==============================] - 17s 15ms/step - loss: 0.2500 - accuracy: 0.9194 - val_loss: 0.0605 - val_accuracy: 0.9860\n",
      "Epoch 45/100\n",
      "1116/1116 [==============================] - 17s 15ms/step - loss: 0.2476 - accuracy: 0.9197 - val_loss: 0.0738 - val_accuracy: 0.9802\n",
      "Epoch 46/100\n",
      "1116/1116 [==============================] - 16s 15ms/step - loss: 0.2465 - accuracy: 0.9212 - val_loss: 0.0686 - val_accuracy: 0.9821\n",
      "Epoch 47/100\n",
      "1116/1116 [==============================] - 16s 14ms/step - loss: 0.2467 - accuracy: 0.9217 - val_loss: 0.0628 - val_accuracy: 0.9844\n",
      "Epoch 48/100\n",
      "1116/1116 [==============================] - 16s 14ms/step - loss: 0.2475 - accuracy: 0.9210 - val_loss: 0.0644 - val_accuracy: 0.9840\n",
      "Epoch 49/100\n",
      "1116/1116 [==============================] - 16s 14ms/step - loss: 0.2510 - accuracy: 0.9198 - val_loss: 0.0651 - val_accuracy: 0.9835\n",
      "Epoch 50/100\n",
      "1116/1116 [==============================] - 16s 14ms/step - loss: 0.2460 - accuracy: 0.9223 - val_loss: 0.0643 - val_accuracy: 0.9825\n",
      "Epoch 51/100\n",
      "1116/1116 [==============================] - 16s 14ms/step - loss: 0.2474 - accuracy: 0.9204 - val_loss: 0.0604 - val_accuracy: 0.9863\n",
      "Epoch 52/100\n",
      "1116/1116 [==============================] - 17s 15ms/step - loss: 0.2447 - accuracy: 0.9218 - val_loss: 0.0671 - val_accuracy: 0.9825\n",
      "Epoch 53/100\n",
      "1116/1116 [==============================] - 16s 14ms/step - loss: 0.2503 - accuracy: 0.9200 - val_loss: 0.0625 - val_accuracy: 0.9844\n",
      "Epoch 54/100\n",
      "1116/1116 [==============================] - 16s 15ms/step - loss: 0.2415 - accuracy: 0.9213 - val_loss: 0.0763 - val_accuracy: 0.9802\n",
      "Epoch 55/100\n",
      "1116/1116 [==============================] - 16s 14ms/step - loss: 0.2441 - accuracy: 0.9224 - val_loss: 0.0670 - val_accuracy: 0.9835\n",
      "Epoch 56/100\n",
      "1116/1116 [==============================] - 16s 14ms/step - loss: 0.2404 - accuracy: 0.9224 - val_loss: 0.0718 - val_accuracy: 0.9811\n",
      "Epoch 57/100\n",
      "1116/1116 [==============================] - 16s 14ms/step - loss: 0.2406 - accuracy: 0.9218 - val_loss: 0.0777 - val_accuracy: 0.9794\n",
      "Epoch 58/100\n",
      "1116/1116 [==============================] - 16s 14ms/step - loss: 0.2354 - accuracy: 0.9235 - val_loss: 0.0707 - val_accuracy: 0.9827\n",
      "Epoch 59/100\n",
      "1116/1116 [==============================] - 16s 14ms/step - loss: 0.2443 - accuracy: 0.9236 - val_loss: 0.0728 - val_accuracy: 0.9813\n",
      "Epoch 60/100\n",
      "1116/1116 [==============================] - 16s 14ms/step - loss: 0.2402 - accuracy: 0.9212 - val_loss: 0.0871 - val_accuracy: 0.9790\n",
      "Epoch 61/100\n",
      "1116/1116 [==============================] - 16s 15ms/step - loss: 0.2385 - accuracy: 0.9250 - val_loss: 0.0883 - val_accuracy: 0.9771\n",
      "Epoch 62/100\n",
      "1116/1116 [==============================] - 16s 15ms/step - loss: 0.2429 - accuracy: 0.9228 - val_loss: 0.0661 - val_accuracy: 0.9832\n",
      "Epoch 63/100\n",
      "1116/1116 [==============================] - 16s 14ms/step - loss: 0.2344 - accuracy: 0.9229 - val_loss: 0.0673 - val_accuracy: 0.9830\n",
      "Epoch 64/100\n",
      "1116/1116 [==============================] - 16s 14ms/step - loss: 0.2386 - accuracy: 0.9231 - val_loss: 0.0677 - val_accuracy: 0.9827\n",
      "Epoch 65/100\n",
      "1116/1116 [==============================] - 17s 15ms/step - loss: 0.2374 - accuracy: 0.9252 - val_loss: 0.0814 - val_accuracy: 0.9792\n",
      "Epoch 66/100\n",
      "1116/1116 [==============================] - 16s 14ms/step - loss: 0.2387 - accuracy: 0.9236 - val_loss: 0.0712 - val_accuracy: 0.9800\n",
      "Epoch 67/100\n",
      "1116/1116 [==============================] - 16s 15ms/step - loss: 0.2345 - accuracy: 0.9251 - val_loss: 0.0728 - val_accuracy: 0.9825\n",
      "Epoch 68/100\n",
      "1116/1116 [==============================] - 17s 15ms/step - loss: 0.2353 - accuracy: 0.9260 - val_loss: 0.0761 - val_accuracy: 0.9814\n",
      "Epoch 69/100\n",
      "1116/1116 [==============================] - 16s 14ms/step - loss: 0.2405 - accuracy: 0.9240 - val_loss: 0.0662 - val_accuracy: 0.9833\n",
      "Epoch 70/100\n",
      "1116/1116 [==============================] - 16s 14ms/step - loss: 0.2322 - accuracy: 0.9263 - val_loss: 0.0689 - val_accuracy: 0.9832\n",
      "Epoch 71/100\n",
      "1116/1116 [==============================] - 16s 15ms/step - loss: 0.2322 - accuracy: 0.9244 - val_loss: 0.0773 - val_accuracy: 0.9802\n",
      "Epoch 72/100\n",
      "1116/1116 [==============================] - 16s 14ms/step - loss: 0.2390 - accuracy: 0.9224 - val_loss: 0.0714 - val_accuracy: 0.9816\n",
      "Epoch 73/100\n",
      "1116/1116 [==============================] - 16s 15ms/step - loss: 0.2396 - accuracy: 0.9237 - val_loss: 0.0682 - val_accuracy: 0.9824\n",
      "Epoch 74/100\n",
      "1116/1116 [==============================] - 20s 18ms/step - loss: 0.2376 - accuracy: 0.9239 - val_loss: 0.0628 - val_accuracy: 0.9837\n",
      "Epoch 75/100\n",
      "1116/1116 [==============================] - 18s 17ms/step - loss: 0.2344 - accuracy: 0.9254 - val_loss: 0.0809 - val_accuracy: 0.9811\n",
      "Epoch 76/100\n",
      "1116/1116 [==============================] - 16s 14ms/step - loss: 0.2342 - accuracy: 0.9252 - val_loss: 0.0696 - val_accuracy: 0.9829\n",
      "Epoch 77/100\n",
      " 533/1116 [=============>................] - ETA: 8s - loss: 0.2357 - accuracy: 0.9240"
     ]
    },
    {
     "ename": "KeyboardInterrupt",
     "evalue": "",
     "output_type": "error",
     "traceback": [
      "\u001b[0;31m---------------------------------------------------------------------------\u001b[0m",
      "\u001b[0;31mKeyboardInterrupt\u001b[0m                         Traceback (most recent call last)",
      "Cell \u001b[0;32mIn[21], line 3\u001b[0m\n\u001b[1;32m      1\u001b[0m data_gen_train \u001b[38;5;241m=\u001b[39m datagen\u001b[38;5;241m.\u001b[39mflow(X_train_s, y_train_s, batch_size\u001b[38;5;241m=\u001b[39m\u001b[38;5;241m32\u001b[39m)\n\u001b[0;32m----> 3\u001b[0m \u001b[43mmodel\u001b[49m\u001b[38;5;241;43m.\u001b[39;49m\u001b[43mfit\u001b[49m\u001b[43m(\u001b[49m\n\u001b[1;32m      4\u001b[0m \u001b[43m  \u001b[49m\u001b[43mdata_gen_train\u001b[49m\u001b[43m,\u001b[49m\n\u001b[1;32m      5\u001b[0m \u001b[43m  \u001b[49m\u001b[43mepochs\u001b[49m\u001b[38;5;241;43m=\u001b[39;49m\u001b[38;5;241;43m100\u001b[39;49m\u001b[43m,\u001b[49m\u001b[43m \u001b[49m\u001b[43mbatch_size\u001b[49m\u001b[38;5;241;43m=\u001b[39;49m\u001b[38;5;241;43m32\u001b[39;49m\u001b[43m,\u001b[49m\n\u001b[1;32m      6\u001b[0m \u001b[43m  \u001b[49m\u001b[43mvalidation_data\u001b[49m\u001b[38;5;241;43m=\u001b[39;49m\u001b[43m(\u001b[49m\u001b[43mX_validation_s\u001b[49m\u001b[43m,\u001b[49m\u001b[43m \u001b[49m\u001b[43my_validation_s\u001b[49m\u001b[43m)\u001b[49m\u001b[43m,\u001b[49m\n\u001b[1;32m      7\u001b[0m \u001b[43m  \u001b[49m\u001b[43msteps_per_epoch\u001b[49m\u001b[38;5;241;43m=\u001b[39;49m\u001b[38;5;28;43mint\u001b[39;49m\u001b[43m(\u001b[49m\u001b[43mnp\u001b[49m\u001b[38;5;241;43m.\u001b[39;49m\u001b[43mceil\u001b[49m\u001b[43m(\u001b[49m\u001b[38;5;28;43mlen\u001b[39;49m\u001b[43m(\u001b[49m\u001b[43mX_train_s\u001b[49m\u001b[43m)\u001b[49m\u001b[43m \u001b[49m\u001b[38;5;241;43m/\u001b[39;49m\u001b[43m \u001b[49m\u001b[38;5;28;43mfloat\u001b[39;49m\u001b[43m(\u001b[49m\u001b[38;5;241;43m32\u001b[39;49m\u001b[43m)\u001b[49m\u001b[43m)\u001b[49m\u001b[43m)\u001b[49m\u001b[43m,\u001b[49m\n\u001b[1;32m      8\u001b[0m \u001b[43m  \u001b[49m\u001b[43mvalidation_steps\u001b[49m\u001b[38;5;241;43m=\u001b[39;49m\u001b[38;5;28;43mint\u001b[39;49m\u001b[43m(\u001b[49m\u001b[43mnp\u001b[49m\u001b[38;5;241;43m.\u001b[39;49m\u001b[43mceil\u001b[49m\u001b[43m(\u001b[49m\u001b[38;5;28;43mlen\u001b[39;49m\u001b[43m(\u001b[49m\u001b[43mX_validation_s\u001b[49m\u001b[43m)\u001b[49m\u001b[43m \u001b[49m\u001b[38;5;241;43m/\u001b[39;49m\u001b[43m \u001b[49m\u001b[38;5;28;43mfloat\u001b[39;49m\u001b[43m(\u001b[49m\u001b[38;5;241;43m32\u001b[39;49m\u001b[43m)\u001b[49m\u001b[43m)\u001b[49m\u001b[43m)\u001b[49m\n\u001b[1;32m      9\u001b[0m \u001b[43m)\u001b[49m\n",
      "File \u001b[0;32m/usr/local/lib/python3.11/dist-packages/keras/src/utils/traceback_utils.py:65\u001b[0m, in \u001b[0;36mfilter_traceback.<locals>.error_handler\u001b[0;34m(*args, **kwargs)\u001b[0m\n\u001b[1;32m     63\u001b[0m filtered_tb \u001b[38;5;241m=\u001b[39m \u001b[38;5;28;01mNone\u001b[39;00m\n\u001b[1;32m     64\u001b[0m \u001b[38;5;28;01mtry\u001b[39;00m:\n\u001b[0;32m---> 65\u001b[0m     \u001b[38;5;28;01mreturn\u001b[39;00m \u001b[43mfn\u001b[49m\u001b[43m(\u001b[49m\u001b[38;5;241;43m*\u001b[39;49m\u001b[43margs\u001b[49m\u001b[43m,\u001b[49m\u001b[43m \u001b[49m\u001b[38;5;241;43m*\u001b[39;49m\u001b[38;5;241;43m*\u001b[39;49m\u001b[43mkwargs\u001b[49m\u001b[43m)\u001b[49m\n\u001b[1;32m     66\u001b[0m \u001b[38;5;28;01mexcept\u001b[39;00m \u001b[38;5;167;01mException\u001b[39;00m \u001b[38;5;28;01mas\u001b[39;00m e:\n\u001b[1;32m     67\u001b[0m     filtered_tb \u001b[38;5;241m=\u001b[39m _process_traceback_frames(e\u001b[38;5;241m.\u001b[39m__traceback__)\n",
      "File \u001b[0;32m/usr/local/lib/python3.11/dist-packages/keras/src/engine/training.py:1807\u001b[0m, in \u001b[0;36mModel.fit\u001b[0;34m(self, x, y, batch_size, epochs, verbose, callbacks, validation_split, validation_data, shuffle, class_weight, sample_weight, initial_epoch, steps_per_epoch, validation_steps, validation_batch_size, validation_freq, max_queue_size, workers, use_multiprocessing)\u001b[0m\n\u001b[1;32m   1799\u001b[0m \u001b[38;5;28;01mwith\u001b[39;00m tf\u001b[38;5;241m.\u001b[39mprofiler\u001b[38;5;241m.\u001b[39mexperimental\u001b[38;5;241m.\u001b[39mTrace(\n\u001b[1;32m   1800\u001b[0m     \u001b[38;5;124m\"\u001b[39m\u001b[38;5;124mtrain\u001b[39m\u001b[38;5;124m\"\u001b[39m,\n\u001b[1;32m   1801\u001b[0m     epoch_num\u001b[38;5;241m=\u001b[39mepoch,\n\u001b[0;32m   (...)\u001b[0m\n\u001b[1;32m   1804\u001b[0m     _r\u001b[38;5;241m=\u001b[39m\u001b[38;5;241m1\u001b[39m,\n\u001b[1;32m   1805\u001b[0m ):\n\u001b[1;32m   1806\u001b[0m     callbacks\u001b[38;5;241m.\u001b[39mon_train_batch_begin(step)\n\u001b[0;32m-> 1807\u001b[0m     tmp_logs \u001b[38;5;241m=\u001b[39m \u001b[38;5;28;43mself\u001b[39;49m\u001b[38;5;241;43m.\u001b[39;49m\u001b[43mtrain_function\u001b[49m\u001b[43m(\u001b[49m\u001b[43miterator\u001b[49m\u001b[43m)\u001b[49m\n\u001b[1;32m   1808\u001b[0m     \u001b[38;5;28;01mif\u001b[39;00m data_handler\u001b[38;5;241m.\u001b[39mshould_sync:\n\u001b[1;32m   1809\u001b[0m         context\u001b[38;5;241m.\u001b[39masync_wait()\n",
      "File \u001b[0;32m/usr/local/lib/python3.11/dist-packages/tensorflow/python/util/traceback_utils.py:150\u001b[0m, in \u001b[0;36mfilter_traceback.<locals>.error_handler\u001b[0;34m(*args, **kwargs)\u001b[0m\n\u001b[1;32m    148\u001b[0m filtered_tb \u001b[38;5;241m=\u001b[39m \u001b[38;5;28;01mNone\u001b[39;00m\n\u001b[1;32m    149\u001b[0m \u001b[38;5;28;01mtry\u001b[39;00m:\n\u001b[0;32m--> 150\u001b[0m   \u001b[38;5;28;01mreturn\u001b[39;00m \u001b[43mfn\u001b[49m\u001b[43m(\u001b[49m\u001b[38;5;241;43m*\u001b[39;49m\u001b[43margs\u001b[49m\u001b[43m,\u001b[49m\u001b[43m \u001b[49m\u001b[38;5;241;43m*\u001b[39;49m\u001b[38;5;241;43m*\u001b[39;49m\u001b[43mkwargs\u001b[49m\u001b[43m)\u001b[49m\n\u001b[1;32m    151\u001b[0m \u001b[38;5;28;01mexcept\u001b[39;00m \u001b[38;5;167;01mException\u001b[39;00m \u001b[38;5;28;01mas\u001b[39;00m e:\n\u001b[1;32m    152\u001b[0m   filtered_tb \u001b[38;5;241m=\u001b[39m _process_traceback_frames(e\u001b[38;5;241m.\u001b[39m__traceback__)\n",
      "File \u001b[0;32m/usr/local/lib/python3.11/dist-packages/tensorflow/python/eager/polymorphic_function/polymorphic_function.py:832\u001b[0m, in \u001b[0;36mFunction.__call__\u001b[0;34m(self, *args, **kwds)\u001b[0m\n\u001b[1;32m    829\u001b[0m compiler \u001b[38;5;241m=\u001b[39m \u001b[38;5;124m\"\u001b[39m\u001b[38;5;124mxla\u001b[39m\u001b[38;5;124m\"\u001b[39m \u001b[38;5;28;01mif\u001b[39;00m \u001b[38;5;28mself\u001b[39m\u001b[38;5;241m.\u001b[39m_jit_compile \u001b[38;5;28;01melse\u001b[39;00m \u001b[38;5;124m\"\u001b[39m\u001b[38;5;124mnonXla\u001b[39m\u001b[38;5;124m\"\u001b[39m\n\u001b[1;32m    831\u001b[0m \u001b[38;5;28;01mwith\u001b[39;00m OptionalXlaContext(\u001b[38;5;28mself\u001b[39m\u001b[38;5;241m.\u001b[39m_jit_compile):\n\u001b[0;32m--> 832\u001b[0m   result \u001b[38;5;241m=\u001b[39m \u001b[38;5;28;43mself\u001b[39;49m\u001b[38;5;241;43m.\u001b[39;49m\u001b[43m_call\u001b[49m\u001b[43m(\u001b[49m\u001b[38;5;241;43m*\u001b[39;49m\u001b[43margs\u001b[49m\u001b[43m,\u001b[49m\u001b[43m \u001b[49m\u001b[38;5;241;43m*\u001b[39;49m\u001b[38;5;241;43m*\u001b[39;49m\u001b[43mkwds\u001b[49m\u001b[43m)\u001b[49m\n\u001b[1;32m    834\u001b[0m new_tracing_count \u001b[38;5;241m=\u001b[39m \u001b[38;5;28mself\u001b[39m\u001b[38;5;241m.\u001b[39mexperimental_get_tracing_count()\n\u001b[1;32m    835\u001b[0m without_tracing \u001b[38;5;241m=\u001b[39m (tracing_count \u001b[38;5;241m==\u001b[39m new_tracing_count)\n",
      "File \u001b[0;32m/usr/local/lib/python3.11/dist-packages/tensorflow/python/eager/polymorphic_function/polymorphic_function.py:868\u001b[0m, in \u001b[0;36mFunction._call\u001b[0;34m(self, *args, **kwds)\u001b[0m\n\u001b[1;32m    865\u001b[0m   \u001b[38;5;28mself\u001b[39m\u001b[38;5;241m.\u001b[39m_lock\u001b[38;5;241m.\u001b[39mrelease()\n\u001b[1;32m    866\u001b[0m   \u001b[38;5;66;03m# In this case we have created variables on the first call, so we run the\u001b[39;00m\n\u001b[1;32m    867\u001b[0m   \u001b[38;5;66;03m# defunned version which is guaranteed to never create variables.\u001b[39;00m\n\u001b[0;32m--> 868\u001b[0m   \u001b[38;5;28;01mreturn\u001b[39;00m \u001b[43mtracing_compilation\u001b[49m\u001b[38;5;241;43m.\u001b[39;49m\u001b[43mcall_function\u001b[49m\u001b[43m(\u001b[49m\n\u001b[1;32m    869\u001b[0m \u001b[43m      \u001b[49m\u001b[43margs\u001b[49m\u001b[43m,\u001b[49m\u001b[43m \u001b[49m\u001b[43mkwds\u001b[49m\u001b[43m,\u001b[49m\u001b[43m \u001b[49m\u001b[38;5;28;43mself\u001b[39;49m\u001b[38;5;241;43m.\u001b[39;49m\u001b[43m_no_variable_creation_config\u001b[49m\n\u001b[1;32m    870\u001b[0m \u001b[43m  \u001b[49m\u001b[43m)\u001b[49m\n\u001b[1;32m    871\u001b[0m \u001b[38;5;28;01melif\u001b[39;00m \u001b[38;5;28mself\u001b[39m\u001b[38;5;241m.\u001b[39m_variable_creation_config \u001b[38;5;129;01mis\u001b[39;00m \u001b[38;5;129;01mnot\u001b[39;00m \u001b[38;5;28;01mNone\u001b[39;00m:\n\u001b[1;32m    872\u001b[0m   \u001b[38;5;66;03m# Release the lock early so that multiple threads can perform the call\u001b[39;00m\n\u001b[1;32m    873\u001b[0m   \u001b[38;5;66;03m# in parallel.\u001b[39;00m\n\u001b[1;32m    874\u001b[0m   \u001b[38;5;28mself\u001b[39m\u001b[38;5;241m.\u001b[39m_lock\u001b[38;5;241m.\u001b[39mrelease()\n",
      "File \u001b[0;32m/usr/local/lib/python3.11/dist-packages/tensorflow/python/eager/polymorphic_function/tracing_compilation.py:139\u001b[0m, in \u001b[0;36mcall_function\u001b[0;34m(args, kwargs, tracing_options)\u001b[0m\n\u001b[1;32m    137\u001b[0m bound_args \u001b[38;5;241m=\u001b[39m function\u001b[38;5;241m.\u001b[39mfunction_type\u001b[38;5;241m.\u001b[39mbind(\u001b[38;5;241m*\u001b[39margs, \u001b[38;5;241m*\u001b[39m\u001b[38;5;241m*\u001b[39mkwargs)\n\u001b[1;32m    138\u001b[0m flat_inputs \u001b[38;5;241m=\u001b[39m function\u001b[38;5;241m.\u001b[39mfunction_type\u001b[38;5;241m.\u001b[39munpack_inputs(bound_args)\n\u001b[0;32m--> 139\u001b[0m \u001b[38;5;28;01mreturn\u001b[39;00m \u001b[43mfunction\u001b[49m\u001b[38;5;241;43m.\u001b[39;49m\u001b[43m_call_flat\u001b[49m\u001b[43m(\u001b[49m\u001b[43m  \u001b[49m\u001b[38;5;66;43;03m# pylint: disable=protected-access\u001b[39;49;00m\n\u001b[1;32m    140\u001b[0m \u001b[43m    \u001b[49m\u001b[43mflat_inputs\u001b[49m\u001b[43m,\u001b[49m\u001b[43m \u001b[49m\u001b[43mcaptured_inputs\u001b[49m\u001b[38;5;241;43m=\u001b[39;49m\u001b[43mfunction\u001b[49m\u001b[38;5;241;43m.\u001b[39;49m\u001b[43mcaptured_inputs\u001b[49m\n\u001b[1;32m    141\u001b[0m \u001b[43m\u001b[49m\u001b[43m)\u001b[49m\n",
      "File \u001b[0;32m/usr/local/lib/python3.11/dist-packages/tensorflow/python/eager/polymorphic_function/concrete_function.py:1323\u001b[0m, in \u001b[0;36mConcreteFunction._call_flat\u001b[0;34m(self, tensor_inputs, captured_inputs)\u001b[0m\n\u001b[1;32m   1319\u001b[0m possible_gradient_type \u001b[38;5;241m=\u001b[39m gradients_util\u001b[38;5;241m.\u001b[39mPossibleTapeGradientTypes(args)\n\u001b[1;32m   1320\u001b[0m \u001b[38;5;28;01mif\u001b[39;00m (possible_gradient_type \u001b[38;5;241m==\u001b[39m gradients_util\u001b[38;5;241m.\u001b[39mPOSSIBLE_GRADIENT_TYPES_NONE\n\u001b[1;32m   1321\u001b[0m     \u001b[38;5;129;01mand\u001b[39;00m executing_eagerly):\n\u001b[1;32m   1322\u001b[0m   \u001b[38;5;66;03m# No tape is watching; skip to running the function.\u001b[39;00m\n\u001b[0;32m-> 1323\u001b[0m   \u001b[38;5;28;01mreturn\u001b[39;00m \u001b[38;5;28;43mself\u001b[39;49m\u001b[38;5;241;43m.\u001b[39;49m\u001b[43m_inference_function\u001b[49m\u001b[38;5;241;43m.\u001b[39;49m\u001b[43mcall_preflattened\u001b[49m\u001b[43m(\u001b[49m\u001b[43margs\u001b[49m\u001b[43m)\u001b[49m\n\u001b[1;32m   1324\u001b[0m forward_backward \u001b[38;5;241m=\u001b[39m \u001b[38;5;28mself\u001b[39m\u001b[38;5;241m.\u001b[39m_select_forward_and_backward_functions(\n\u001b[1;32m   1325\u001b[0m     args,\n\u001b[1;32m   1326\u001b[0m     possible_gradient_type,\n\u001b[1;32m   1327\u001b[0m     executing_eagerly)\n\u001b[1;32m   1328\u001b[0m forward_function, args_with_tangents \u001b[38;5;241m=\u001b[39m forward_backward\u001b[38;5;241m.\u001b[39mforward()\n",
      "File \u001b[0;32m/usr/local/lib/python3.11/dist-packages/tensorflow/python/eager/polymorphic_function/atomic_function.py:216\u001b[0m, in \u001b[0;36mAtomicFunction.call_preflattened\u001b[0;34m(self, args)\u001b[0m\n\u001b[1;32m    214\u001b[0m \u001b[38;5;28;01mdef\u001b[39;00m \u001b[38;5;21mcall_preflattened\u001b[39m(\u001b[38;5;28mself\u001b[39m, args: Sequence[core\u001b[38;5;241m.\u001b[39mTensor]) \u001b[38;5;241m-\u001b[39m\u001b[38;5;241m>\u001b[39m Any:\n\u001b[1;32m    215\u001b[0m \u001b[38;5;250m  \u001b[39m\u001b[38;5;124;03m\"\"\"Calls with flattened tensor inputs and returns the structured output.\"\"\"\u001b[39;00m\n\u001b[0;32m--> 216\u001b[0m   flat_outputs \u001b[38;5;241m=\u001b[39m \u001b[38;5;28;43mself\u001b[39;49m\u001b[38;5;241;43m.\u001b[39;49m\u001b[43mcall_flat\u001b[49m\u001b[43m(\u001b[49m\u001b[38;5;241;43m*\u001b[39;49m\u001b[43margs\u001b[49m\u001b[43m)\u001b[49m\n\u001b[1;32m    217\u001b[0m   \u001b[38;5;28;01mreturn\u001b[39;00m \u001b[38;5;28mself\u001b[39m\u001b[38;5;241m.\u001b[39mfunction_type\u001b[38;5;241m.\u001b[39mpack_output(flat_outputs)\n",
      "File \u001b[0;32m/usr/local/lib/python3.11/dist-packages/tensorflow/python/eager/polymorphic_function/atomic_function.py:251\u001b[0m, in \u001b[0;36mAtomicFunction.call_flat\u001b[0;34m(self, *args)\u001b[0m\n\u001b[1;32m    249\u001b[0m \u001b[38;5;28;01mwith\u001b[39;00m record\u001b[38;5;241m.\u001b[39mstop_recording():\n\u001b[1;32m    250\u001b[0m   \u001b[38;5;28;01mif\u001b[39;00m \u001b[38;5;28mself\u001b[39m\u001b[38;5;241m.\u001b[39m_bound_context\u001b[38;5;241m.\u001b[39mexecuting_eagerly():\n\u001b[0;32m--> 251\u001b[0m     outputs \u001b[38;5;241m=\u001b[39m \u001b[38;5;28;43mself\u001b[39;49m\u001b[38;5;241;43m.\u001b[39;49m\u001b[43m_bound_context\u001b[49m\u001b[38;5;241;43m.\u001b[39;49m\u001b[43mcall_function\u001b[49m\u001b[43m(\u001b[49m\n\u001b[1;32m    252\u001b[0m \u001b[43m        \u001b[49m\u001b[38;5;28;43mself\u001b[39;49m\u001b[38;5;241;43m.\u001b[39;49m\u001b[43mname\u001b[49m\u001b[43m,\u001b[49m\n\u001b[1;32m    253\u001b[0m \u001b[43m        \u001b[49m\u001b[38;5;28;43mlist\u001b[39;49m\u001b[43m(\u001b[49m\u001b[43margs\u001b[49m\u001b[43m)\u001b[49m\u001b[43m,\u001b[49m\n\u001b[1;32m    254\u001b[0m \u001b[43m        \u001b[49m\u001b[38;5;28;43mlen\u001b[39;49m\u001b[43m(\u001b[49m\u001b[38;5;28;43mself\u001b[39;49m\u001b[38;5;241;43m.\u001b[39;49m\u001b[43mfunction_type\u001b[49m\u001b[38;5;241;43m.\u001b[39;49m\u001b[43mflat_outputs\u001b[49m\u001b[43m)\u001b[49m\u001b[43m,\u001b[49m\n\u001b[1;32m    255\u001b[0m \u001b[43m    \u001b[49m\u001b[43m)\u001b[49m\n\u001b[1;32m    256\u001b[0m   \u001b[38;5;28;01melse\u001b[39;00m:\n\u001b[1;32m    257\u001b[0m     outputs \u001b[38;5;241m=\u001b[39m make_call_op_in_graph(\n\u001b[1;32m    258\u001b[0m         \u001b[38;5;28mself\u001b[39m,\n\u001b[1;32m    259\u001b[0m         \u001b[38;5;28mlist\u001b[39m(args),\n\u001b[1;32m    260\u001b[0m         \u001b[38;5;28mself\u001b[39m\u001b[38;5;241m.\u001b[39m_bound_context\u001b[38;5;241m.\u001b[39mfunction_call_options\u001b[38;5;241m.\u001b[39mas_attrs(),\n\u001b[1;32m    261\u001b[0m     )\n",
      "File \u001b[0;32m/usr/local/lib/python3.11/dist-packages/tensorflow/python/eager/context.py:1486\u001b[0m, in \u001b[0;36mContext.call_function\u001b[0;34m(self, name, tensor_inputs, num_outputs)\u001b[0m\n\u001b[1;32m   1484\u001b[0m cancellation_context \u001b[38;5;241m=\u001b[39m cancellation\u001b[38;5;241m.\u001b[39mcontext()\n\u001b[1;32m   1485\u001b[0m \u001b[38;5;28;01mif\u001b[39;00m cancellation_context \u001b[38;5;129;01mis\u001b[39;00m \u001b[38;5;28;01mNone\u001b[39;00m:\n\u001b[0;32m-> 1486\u001b[0m   outputs \u001b[38;5;241m=\u001b[39m \u001b[43mexecute\u001b[49m\u001b[38;5;241;43m.\u001b[39;49m\u001b[43mexecute\u001b[49m\u001b[43m(\u001b[49m\n\u001b[1;32m   1487\u001b[0m \u001b[43m      \u001b[49m\u001b[43mname\u001b[49m\u001b[38;5;241;43m.\u001b[39;49m\u001b[43mdecode\u001b[49m\u001b[43m(\u001b[49m\u001b[38;5;124;43m\"\u001b[39;49m\u001b[38;5;124;43mutf-8\u001b[39;49m\u001b[38;5;124;43m\"\u001b[39;49m\u001b[43m)\u001b[49m\u001b[43m,\u001b[49m\n\u001b[1;32m   1488\u001b[0m \u001b[43m      \u001b[49m\u001b[43mnum_outputs\u001b[49m\u001b[38;5;241;43m=\u001b[39;49m\u001b[43mnum_outputs\u001b[49m\u001b[43m,\u001b[49m\n\u001b[1;32m   1489\u001b[0m \u001b[43m      \u001b[49m\u001b[43minputs\u001b[49m\u001b[38;5;241;43m=\u001b[39;49m\u001b[43mtensor_inputs\u001b[49m\u001b[43m,\u001b[49m\n\u001b[1;32m   1490\u001b[0m \u001b[43m      \u001b[49m\u001b[43mattrs\u001b[49m\u001b[38;5;241;43m=\u001b[39;49m\u001b[43mattrs\u001b[49m\u001b[43m,\u001b[49m\n\u001b[1;32m   1491\u001b[0m \u001b[43m      \u001b[49m\u001b[43mctx\u001b[49m\u001b[38;5;241;43m=\u001b[39;49m\u001b[38;5;28;43mself\u001b[39;49m\u001b[43m,\u001b[49m\n\u001b[1;32m   1492\u001b[0m \u001b[43m  \u001b[49m\u001b[43m)\u001b[49m\n\u001b[1;32m   1493\u001b[0m \u001b[38;5;28;01melse\u001b[39;00m:\n\u001b[1;32m   1494\u001b[0m   outputs \u001b[38;5;241m=\u001b[39m execute\u001b[38;5;241m.\u001b[39mexecute_with_cancellation(\n\u001b[1;32m   1495\u001b[0m       name\u001b[38;5;241m.\u001b[39mdecode(\u001b[38;5;124m\"\u001b[39m\u001b[38;5;124mutf-8\u001b[39m\u001b[38;5;124m\"\u001b[39m),\n\u001b[1;32m   1496\u001b[0m       num_outputs\u001b[38;5;241m=\u001b[39mnum_outputs,\n\u001b[0;32m   (...)\u001b[0m\n\u001b[1;32m   1500\u001b[0m       cancellation_manager\u001b[38;5;241m=\u001b[39mcancellation_context,\n\u001b[1;32m   1501\u001b[0m   )\n",
      "File \u001b[0;32m/usr/local/lib/python3.11/dist-packages/tensorflow/python/eager/execute.py:53\u001b[0m, in \u001b[0;36mquick_execute\u001b[0;34m(op_name, num_outputs, inputs, attrs, ctx, name)\u001b[0m\n\u001b[1;32m     51\u001b[0m \u001b[38;5;28;01mtry\u001b[39;00m:\n\u001b[1;32m     52\u001b[0m   ctx\u001b[38;5;241m.\u001b[39mensure_initialized()\n\u001b[0;32m---> 53\u001b[0m   tensors \u001b[38;5;241m=\u001b[39m \u001b[43mpywrap_tfe\u001b[49m\u001b[38;5;241;43m.\u001b[39;49m\u001b[43mTFE_Py_Execute\u001b[49m\u001b[43m(\u001b[49m\u001b[43mctx\u001b[49m\u001b[38;5;241;43m.\u001b[39;49m\u001b[43m_handle\u001b[49m\u001b[43m,\u001b[49m\u001b[43m \u001b[49m\u001b[43mdevice_name\u001b[49m\u001b[43m,\u001b[49m\u001b[43m \u001b[49m\u001b[43mop_name\u001b[49m\u001b[43m,\u001b[49m\n\u001b[1;32m     54\u001b[0m \u001b[43m                                      \u001b[49m\u001b[43minputs\u001b[49m\u001b[43m,\u001b[49m\u001b[43m \u001b[49m\u001b[43mattrs\u001b[49m\u001b[43m,\u001b[49m\u001b[43m \u001b[49m\u001b[43mnum_outputs\u001b[49m\u001b[43m)\u001b[49m\n\u001b[1;32m     55\u001b[0m \u001b[38;5;28;01mexcept\u001b[39;00m core\u001b[38;5;241m.\u001b[39m_NotOkStatusException \u001b[38;5;28;01mas\u001b[39;00m e:\n\u001b[1;32m     56\u001b[0m   \u001b[38;5;28;01mif\u001b[39;00m name \u001b[38;5;129;01mis\u001b[39;00m \u001b[38;5;129;01mnot\u001b[39;00m \u001b[38;5;28;01mNone\u001b[39;00m:\n",
      "\u001b[0;31mKeyboardInterrupt\u001b[0m: "
     ]
    }
   ],
   "source": [
    "data_gen_train = datagen.flow(X_train_s, y_train_s, batch_size=32)\n",
    "\n",
    "model.fit(\n",
    "  data_gen_train,\n",
    "  epochs=100, batch_size=32,\n",
    "  validation_data=(X_validation_s, y_validation_s),\n",
    "  steps_per_epoch=int(np.ceil(len(X_train_s) / float(32))),\n",
    "  validation_steps=int(np.ceil(len(X_validation_s) / float(32)))\n",
    ")"
   ]
  }
 ],
 "metadata": {
  "kernelspec": {
   "display_name": "Python 3",
   "language": "python",
   "name": "python3"
  },
  "language_info": {
   "codemirror_mode": {
    "name": "ipython",
    "version": 3
   },
   "file_extension": ".py",
   "mimetype": "text/x-python",
   "name": "python",
   "nbconvert_exporter": "python",
   "pygments_lexer": "ipython3",
   "version": "3.11.0rc1"
  }
 },
 "nbformat": 4,
 "nbformat_minor": 2
}
